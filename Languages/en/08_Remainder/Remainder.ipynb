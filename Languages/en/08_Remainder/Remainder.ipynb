{
 "cells": [
  {
   "cell_type": "code",
   "execution_count": 1,
   "id": "40f73521",
   "metadata": {},
   "outputs": [
    {
     "name": "stdout",
     "output_type": "stream",
     "text": [
      "The solution to the system of congruence equations is x ≡ 23 (mod 105)\n"
     ]
    }
   ],
   "source": [
    "def extended_gcd(a, b):\n",
    "    if b == 0:\n",
    "        return a, 1, 0\n",
    "    else:\n",
    "        d, x, y = extended_gcd(b, a % b)\n",
    "        return d, y, x - (a // b) * y\n",
    "\n",
    "def chinese_remainder_theorem(congruences):\n",
    "    \"\"\"\n",
    "    Function to solve the Chinese Remainder Theorem\n",
    "\n",
    "    :param congruences: A list of linear congruence equations in the format [(a1, m1), (a2, m2), ..., (an, mn)], representing the equation x ≡ ai (mod mi)\n",
    "    :return: The solution x to the system of congruence equations\n",
    "    \"\"\"\n",
    "    # Calculate the product of the modulus numbers M\n",
    "    M = 1\n",
    "    for _, mi in congruences:\n",
    "        M *= mi\n",
    "\n",
    "    # Calculate Mi and the modular inverse of Mi\n",
    "    M_values = [M // mi for _, mi in congruences]\n",
    "    Mi_values = [extended_gcd(Mi, mi)[1] for Mi, (_, mi) in zip(M_values, congruences)]\n",
    "\n",
    "    # Calculate the solution x\n",
    "    x = sum(ai * Mi * mi for (ai, _), Mi, mi in zip(congruences, Mi_values, M_values)) % M\n",
    "\n",
    "    return x\n",
    "\n",
    "# Example: Solve x ≡ 2 (mod 3), x ≡ 3 (mod 5), x ≡ 2 (mod 7)\n",
    "congruences = [(2, 3), (3, 5), (2, 7)]\n",
    "solution = chinese_remainder_theorem(congruences)\n",
    "print(f\"The solution to the system of congruence equations is x ≡ {solution} (mod {congruences[0][1] * congruences[1][1] * congruences[2][1]})\")\n",
    "# The solution to the system of congruence equations is x ≡ 23 (mod 105)"
   ]
  },
  {
   "cell_type": "code",
   "execution_count": null,
   "id": "9f3af462",
   "metadata": {},
   "outputs": [],
   "source": []
  }
 ],
 "metadata": {
  "kernelspec": {
   "display_name": "Python 3 (ipykernel)",
   "language": "python",
   "name": "python3"
  },
  "language_info": {
   "codemirror_mode": {
    "name": "ipython",
    "version": 3
   },
   "file_extension": ".py",
   "mimetype": "text/x-python",
   "name": "python",
   "nbconvert_exporter": "python",
   "pygments_lexer": "ipython3",
   "version": "3.8.18"
  }
 },
 "nbformat": 4,
 "nbformat_minor": 5
}
