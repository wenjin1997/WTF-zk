{
 "cells": [
  {
   "cell_type": "code",
   "execution_count": 1,
   "id": "aa47f524",
   "metadata": {},
   "outputs": [
    {
     "name": "stdout",
     "output_type": "stream",
     "text": [
      "7^5 mod 13 = 11\n"
     ]
    }
   ],
   "source": [
    "def mod_pow(base, exponent, modulus):\n",
    "    result = 1\n",
    "\n",
    "    # Expand the exponent into binary form and process it bit by bit from high to low\n",
    "    while exponent > 0:\n",
    "        # If the current bit is 1, multiply by the current base, then take the modulus\n",
    "        if exponent % 2 == 1:\n",
    "            result = (result * base) % modulus\n",
    "        # Square the base, then take the modulus\n",
    "        base = (base * base) % modulus\n",
    "        # Shifting one place to the right is equivalent to dividing by 2\n",
    "        exponent //= 2\n",
    "\n",
    "    return result\n",
    "\n",
    "# Example: Calculate (7^5) % 13\n",
    "a = 7\n",
    "c = 5\n",
    "n = 13\n",
    "result = mod_pow(a, c, n)\n",
    "print(f\"{a}^{c} mod {n} = {result}\")\n",
    "# 7^5 mod 13 = 11"
   ]
  },
  {
   "cell_type": "code",
   "execution_count": null,
   "id": "955b4640",
   "metadata": {},
   "outputs": [],
   "source": []
  }
 ],
 "metadata": {
  "kernelspec": {
   "display_name": "Python 3 (ipykernel)",
   "language": "python",
   "name": "python3"
  },
  "language_info": {
   "codemirror_mode": {
    "name": "ipython",
    "version": 3
   },
   "file_extension": ".py",
   "mimetype": "text/x-python",
   "name": "python",
   "nbconvert_exporter": "python",
   "pygments_lexer": "ipython3",
   "version": "3.7.7"
  }
 },
 "nbformat": 4,
 "nbformat_minor": 5
}
